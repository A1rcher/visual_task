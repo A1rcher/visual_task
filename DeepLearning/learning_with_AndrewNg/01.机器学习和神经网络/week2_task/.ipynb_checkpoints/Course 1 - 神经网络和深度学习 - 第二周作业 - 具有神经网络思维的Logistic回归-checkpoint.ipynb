{
 "cells": [
  {
   "cell_type": "code",
   "execution_count": 1,
   "id": "8a23ba2c",
   "metadata": {},
   "outputs": [],
   "source": [
    "import numpy as np\n",
    "import matplotlib.pyplot as plt\n",
    "import h5py\n",
    "from lr_utils import load_dataset\n",
    "\n",
    "%matplotlib inline"
   ]
  },
  {
   "cell_type": "code",
   "execution_count": 2,
   "id": "9d13ed36",
   "metadata": {},
   "outputs": [
    {
     "name": "stdout",
     "output_type": "stream",
     "text": [
      "(209, 64, 64, 3)\n",
      "[[0 0 1 0 0 0 0 1 0 0 0 1 0 1 1 0 0 0 0 1 0 0 0 0 1 1 0 1 0 1 0 0 0 0 0 0\n",
      "  0 0 1 0 0 1 1 0 0 0 0 1 0 0 1 0 0 0 1 0 1 1 0 1 1 1 0 0 0 0 0 0 1 0 0 1\n",
      "  0 0 0 0 0 0 0 0 0 0 0 1 1 0 0 0 1 0 0 0 1 1 1 0 0 1 0 0 0 0 1 0 1 0 1 1\n",
      "  1 1 1 1 0 0 0 0 0 1 0 0 0 1 0 0 1 0 1 0 1 1 0 0 0 1 1 1 1 1 0 0 0 0 1 0\n",
      "  1 1 1 0 1 1 0 0 0 1 0 0 1 0 0 0 0 0 1 0 1 0 1 0 0 1 1 1 0 0 1 1 0 1 0 1\n",
      "  0 0 0 0 0 1 0 0 1 0 0 0 1 0 0 0 0 1 0 0 1 0 0 0 0 0 0 0 0]]\n",
      "(50, 64, 64, 3)\n",
      "(1, 50)\n",
      "b'cat'\n"
     ]
    }
   ],
   "source": [
    "train_set_x_orig, train_set_y_orig, test_set_x_orig, test_set_y_orig, classes = load_dataset()\n",
    "print(train_set_x_orig.shape)\n",
    "print(train_set_y_orig)\n",
    "print(test_set_x_orig.shape)\n",
    "print(test_set_y_orig.shape)\n",
    "print(classes[1])"
   ]
  },
  {
   "cell_type": "code",
   "execution_count": 3,
   "id": "3ab857ef",
   "metadata": {},
   "outputs": [
    {
     "name": "stdout",
     "output_type": "stream",
     "text": [
      "1\n"
     ]
    },
    {
     "data": {
      "image/png": "[encoded data removed]",
      "text/plain": [
       "<Figure size 640x480 with 1 Axes>"
      ]
     },
     "metadata": {},
     "output_type": "display_data"
    }
   ],
   "source": [
    "index = 25\n",
    "plt.imshow(train_set_x_orig[index])\n",
    "print(train_set_y_orig[0,index])"
   ]
  },
  {
   "cell_type": "code",
   "execution_count": 4,
   "id": "303ed3c0",
   "metadata": {},
   "outputs": [
    {
     "name": "stdout",
     "output_type": "stream",
     "text": [
      "num_train:209\n",
      "num_test:50\n",
      "num_px:64\n"
     ]
    }
   ],
   "source": [
    "num_train = train_set_x_orig.shape[0]\n",
    "num_test = test_set_x_orig.shape[0]\n",
    "num_px = train_set_x_orig.shape[1]\n",
    "\n",
    "print(f\"num_train:{num_train}\")\n",
    "print(f\"num_test:{num_test}\")\n",
    "print(f\"num_px:{num_px}\")"
   ]
  },
  {
   "cell_type": "code",
   "execution_count": 5,
   "id": "c7509980",
   "metadata": {},
   "outputs": [
    {
     "name": "stdout",
     "output_type": "stream",
     "text": [
      "(12288, 209)\n",
      "(12288, 50)\n"
     ]
    }
   ],
   "source": [
    "train_set_x_flatten = train_set_x_orig.reshape(num_train,-1).T\n",
    "test_set_x_flatten = test_set_x_orig.reshape(num_test,-1).T\n",
    "print(train_set_x_flatten.shape)\n",
    "print(test_set_x_flatten.shape)"
   ]
  },
  {
   "cell_type": "code",
   "execution_count": 6,
   "id": "8dc0f4ee",
   "metadata": {},
   "outputs": [],
   "source": [
    "train_set_x = train_set_x_flatten / 255\n",
    "test_set_x = test_set_x_flatten / 255"
   ]
  },
  {
   "cell_type": "code",
   "execution_count": 7,
   "id": "10a4fea3",
   "metadata": {},
   "outputs": [],
   "source": [
    "def sigmoid(z):\n",
    "    s = 1 / (1+np.exp(-z))\n",
    "    return s"
   ]
  },
  {
   "cell_type": "code",
   "execution_count": 8,
   "id": "d5da1657",
   "metadata": {},
   "outputs": [],
   "source": [
    "def init_w_b(size):\n",
    "    w = np.zeros((size, 1))\n",
    "    b = 0\n",
    "    \n",
    "    assert(w.shape == (size, 1))\n",
    "    \n",
    "    return w, b"
   ]
  },
  {
   "cell_type": "code",
   "execution_count": 9,
   "id": "6a3769a2",
   "metadata": {},
   "outputs": [],
   "source": [
    "def propagate(w, b, train_set_x, train_set_y_orig, num_train):\n",
    "    z = np.dot(w.T, train_set_x) + b\n",
    "    a = sigmoid(z)\n",
    "\n",
    "    J = (1 / num_train) * (np.sum(-train_set_y_orig * np.log(a) - (1-train_set_y_orig) * np.log(1-a)))\n",
    "\n",
    "    dz = a - train_set_y_orig\n",
    "    dw = (1 / num_train) * np.dot(train_set_x, dz.T)\n",
    "    db = (1 / num_train) * np.sum(dz)\n",
    "    \n",
    "    return J, dw, db"
   ]
  },
  {
   "cell_type": "code",
   "execution_count": 10,
   "id": "22cd05ca",
   "metadata": {},
   "outputs": [],
   "source": [
    "def predict(w, b, train_set_x):\n",
    "    z = np.dot(w.T, train_set_x) + b\n",
    "    a = sigmoid(z)\n",
    "\n",
    "    for i in range(a.shape[1]):\n",
    "        a[0,i] = 1 if a[0,i] >0.5 else 0\n",
    "\n",
    "    return a"
   ]
  },
  {
   "cell_type": "code",
   "execution_count": 11,
   "id": "edfc7b81",
   "metadata": {},
   "outputs": [
    {
     "name": "stdout",
     "output_type": "stream",
     "text": [
      "迭代次数：0, 误差值：0.6931471805599453\n",
      "迭代次数：100, 误差值：0.5845083636993087\n",
      "迭代次数：200, 误差值：0.4669490409465546\n",
      "迭代次数：300, 误差值：0.37600686694802077\n",
      "迭代次数：400, 误差值：0.3314632893282512\n",
      "迭代次数：500, 误差值：0.30327306747438293\n",
      "迭代次数：600, 误差值：0.27987958658260487\n",
      "迭代次数：700, 误差值：0.2600421369258757\n",
      "迭代次数：800, 误差值：0.2429406846779662\n",
      "迭代次数：900, 误差值：0.22800422256726066\n",
      "迭代次数：1000, 误差值：0.2148195137844964\n",
      "迭代次数：1100, 误差值：0.20307819060644985\n",
      "迭代次数：1200, 误差值：0.19254427716706862\n",
      "迭代次数：1300, 误差值：0.1830333379688351\n",
      "迭代次数：1400, 误差值：0.17439859438448874\n",
      "迭代次数：1500, 误差值：0.16652139705400332\n",
      "迭代次数：1600, 误差值：0.15930451829756614\n",
      "迭代次数：1700, 误差值：0.15266732471296504\n",
      "迭代次数：1800, 误差值：0.1465422350398234\n",
      "迭代次数：1900, 误差值：0.1408720757031016\n",
      "迭代次数：2000, 误差值：0.13560807525912016\n",
      "迭代次数：2100, 误差值：0.1307083213047731\n",
      "迭代次数：2200, 误差值：0.12613655733642845\n",
      "迭代次数：2300, 误差值：0.12186123310162926\n",
      "迭代次数：2400, 误差值：0.11785474652704071\n",
      "训练集准确率：99.52153110047847%\n",
      "测试集准确率：68.0%\n"
     ]
    }
   ],
   "source": [
    "learning_rate = 0.005\n",
    "w, b = init_w_b(train_set_x.shape[0])\n",
    "costs = []\n",
    "for i in range(2500):\n",
    "    J, dw, db = propagate(w, b, train_set_x, train_set_y_orig, num_train)\n",
    "    w = w - learning_rate * dw\n",
    "    b = b - learning_rate * db \n",
    "    \n",
    "    if i % 100 == 0:\n",
    "        costs.append(J)\n",
    "        print(f\"迭代次数：{i}, 误差值：{J}\")\n",
    "\n",
    "y_predict_train = predict(w, b, train_set_x)\n",
    "y_predict_test = predict(w, b, test_set_x)\n",
    "\n",
    "print(f\"训练集准确率：{100*(num_train-np.sum(np.abs(y_predict_train-train_set_y_orig)))/num_train}\" + \"%\")\n",
    "print(f\"测试集准确率：{100*(num_test-np.sum(np.abs(y_predict_test-test_set_y_orig)))/num_test}\" + \"%\")"
   ]
  },
  {
   "cell_type": "code",
   "execution_count": 12,
   "id": "0591a233",
   "metadata": {},
   "outputs": [
    {
     "data": {
      "image/png": "[encoded data removed]",
      "text/plain": [
       "<Figure size 640x480 with 1 Axes>"
      ]
     },
     "metadata": {},
     "output_type": "display_data"
    }
   ],
   "source": [
    "plt.plot(costs)\n",
    "plt.ylabel('cost')\n",
    "plt.xlabel('iterations')\n",
    "plt.show()"
   ]
  },
  {
   "cell_type": "code",
   "execution_count": null,
   "id": "9c76bd62",
   "metadata": {},
   "outputs": [],
   "source": []
  }
 ],
 "metadata": {
  "kernelspec": {
   "display_name": "Python 3 (ipykernel)",
   "language": "python",
   "name": "python3"
  },
  "language_info": {
   "codemirror_mode": {
    "name": "ipython",
    "version": 3
   },
   "file_extension": ".py",
   "mimetype": "text/x-python",
   "name": "python",
   "nbconvert_exporter": "python",
   "pygments_lexer": "ipython3",
   "version": "3.8.10"
  }
 },
 "nbformat": 4,
 "nbformat_minor": 5
}
